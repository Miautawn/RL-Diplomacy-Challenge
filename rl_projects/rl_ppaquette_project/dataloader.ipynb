{
 "cells": [
  {
   "cell_type": "code",
   "execution_count": 73,
   "id": "511eb14e-b585-4a46-bc12-250d2a348541",
   "metadata": {},
   "outputs": [],
   "source": [
    "import math\n",
    "import logging\n",
    "import random\n",
    "\n",
    "import torch\n",
    "from torch.utils.data import IterableDataset, DataLoader, Dataset\n",
    "import numpy as np\n",
    "\n",
    "from utilities.utility_functions import decompress_dict\n",
    "from settings import MODEL_DATA_PATHS"
   ]
  },
  {
   "cell_type": "code",
   "execution_count": 2,
   "id": "a8229b48-90b0-44b4-a9c5-5db568d1c003",
   "metadata": {},
   "outputs": [],
   "source": [
    "LOGGER = logging.getLogger(__name__)"
   ]
  },
  {
   "cell_type": "code",
   "execution_count": 148,
   "id": "e6a67a30-6fd6-4081-8c3b-26506e9fbfa2",
   "metadata": {},
   "outputs": [],
   "source": [
    "class DiplomacyDataset(IterableDataset):\n",
    "    def __init__(self, file_path, shuffle, shuffle_buffer_size) -> None:\n",
    "        super(DiplomacyDataset).__init__()\n",
    "        \n",
    "        self.file_path = file_path\n",
    "        self.shuffle = shuffle\n",
    "        self.shuffle_buffer_size = shuffle_buffer_size\n",
    "        \n",
    "        if self.shuffle and self.shuffle_buffer_size <= 1:\n",
    "            raise(Exception(\"\"\"Bad shuffle buffer size.\n",
    "If you want to shuffle the iterable data, you have to define a positive > 1 shuffle buffer size.\"\"\"))\n",
    "        \n",
    "    def sequential_iterator(self):\n",
    "        # return iter(range(100))\n",
    "        return open(self.file_path, \"r\")\n",
    "        \n",
    "    def shuffle_iterator(self):\n",
    "        shuffle_buffer = []\n",
    "        local_iterator = self.sequential_iterator()\n",
    "        \n",
    "        \n",
    "        try:\n",
    "            # fill up the initial buffer\n",
    "            for _ in range(self.shuffle_buffer_size):\n",
    "                shuffle_buffer.append(next(local_iterator))\n",
    "        except StopIteration:\n",
    "            # in the scenario of either too small dataset file or too big buffer size,\n",
    "            # shrink the shuffle buffer\n",
    "\n",
    "            LOGGER.info(\"Either the dataset file is too small, or shuffle buffer size is too big for the file.\\\n",
    "Shrinking the buffer...\")\n",
    "            self.shuffle_buffer_size = len(shuffle_buffer)\n",
    "            \n",
    "        # main loop\n",
    "        while True:\n",
    "            remove_index = random.randint(0, len(shuffle_buffer) - 1)\n",
    "            yield shuffle_buffer.pop(remove_index)\n",
    "            \n",
    "            try:\n",
    "                shuffle_buffer.append(next(local_iterator))\n",
    "            except StopIteration:\n",
    "                break\n",
    "                \n",
    "        while len(shuffle_buffer) > 0:\n",
    "            remove_index = random.randint(0, len(shuffle_buffer) - 1)\n",
    "            yield shuffle_buffer.pop(remove_index)\n",
    "        \n",
    "    def __iter__(self):\n",
    "        \n",
    "        if(self.shuffle):\n",
    "            self.iterator = self.shuffle_iterator()\n",
    "        else:\n",
    "            self.iterator = self.sequential_iterator()\n",
    "            \n",
    "        return self\n",
    "    \n",
    "    \n",
    "    def __next__(self):\n",
    "        item = next(self.iterator)\n",
    "        item = decompress_dict(item, [\"board_state\", \"prev_orders_state\", \"board_alignments\", \"candidates\"])\n",
    "        return np.array(item[\"decoder_inputs\"]), 1\n",
    "            "
   ]
  },
  {
   "cell_type": "code",
   "execution_count": 149,
   "id": "2f10c2af-7011-447c-b677-89fe6d820c35",
   "metadata": {},
   "outputs": [],
   "source": [
    "batch_size = 3\n",
    "shuffle = False\n",
    "shuffle_buffer_size = 1 * batch_size\n",
    "file_path = \"data/model_data/full_dataset_training.txt\""
   ]
  },
  {
   "cell_type": "code",
   "execution_count": 150,
   "id": "ef11e484-f44d-409d-b156-a9551214f9a0",
   "metadata": {},
   "outputs": [],
   "source": [
    "dataset = DiplomacyDataset(file_path = file_path, shuffle = shuffle, shuffle_buffer_size = shuffle_buffer_size)"
   ]
  },
  {
   "cell_type": "code",
   "execution_count": 151,
   "id": "80a18a81-b689-4857-8ea6-cbeb5308ae5f",
   "metadata": {},
   "outputs": [],
   "source": [
    "dataloader = DataLoader(dataset, batch_size = batch_size)"
   ]
  },
  {
   "cell_type": "code",
   "execution_count": 152,
   "id": "3cdc1fac-0e11-4cab-a190-2c179bad42ba",
   "metadata": {},
   "outputs": [],
   "source": [
    "bruh = iter(dataloader)"
   ]
  },
  {
   "cell_type": "code",
   "execution_count": 153,
   "id": "43e5a345-ecb9-4baa-8d4e-d6ec55dc8b27",
   "metadata": {},
   "outputs": [],
   "source": [
    "a = next(bruh)"
   ]
  },
  {
   "cell_type": "code",
   "execution_count": 156,
   "id": "fc41f6b7-6a4e-429a-8e98-8276233a9fb6",
   "metadata": {},
   "outputs": [],
   "source": [
    "x, y = a"
   ]
  }
 ],
 "metadata": {
  "environment": {
   "kernel": "python3",
   "name": "pytorch-gpu.1-9.m82",
   "type": "gcloud",
   "uri": "gcr.io/deeplearning-platform-release/pytorch-gpu.1-9:m82"
  },
  "kernelspec": {
   "display_name": "Python 3",
   "language": "python",
   "name": "python3"
  },
  "language_info": {
   "codemirror_mode": {
    "name": "ipython",
    "version": 3
   },
   "file_extension": ".py",
   "mimetype": "text/x-python",
   "name": "python",
   "nbconvert_exporter": "python",
   "pygments_lexer": "ipython3",
   "version": "3.7.10"
  }
 },
 "nbformat": 4,
 "nbformat_minor": 5
}
