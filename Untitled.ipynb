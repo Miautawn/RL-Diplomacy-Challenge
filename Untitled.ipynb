{
 "cells": [
  {
   "cell_type": "markdown",
   "id": "d5c3c8b1-dd73-4132-9813-04b8d3a37788",
   "metadata": {},
   "source": [
    "```{note}\n",
    "what's poppin?\n",
    "```"
   ]
  },
  {
   "cell_type": "markdown",
   "id": "d6756b0b-f75b-4431-a490-f602a4f80492",
   "metadata": {},
   "source": [
    "```{note}\n",
    "cringe\n",
    "```"
   ]
  },
  {
   "cell_type": "code",
   "execution_count": null,
   "id": "1c5ffb83-8872-466b-b934-f8e3965812ff",
   "metadata": {},
   "outputs": [],
   "source": []
  }
 ],
 "metadata": {
  "environment": {
   "kernel": "python3",
   "name": "pytorch-gpu.1-9.m82",
   "type": "gcloud",
   "uri": "gcr.io/deeplearning-platform-release/pytorch-gpu.1-9:m82"
  },
  "kernelspec": {
   "display_name": "Python 3",
   "language": "python",
   "name": "python3"
  },
  "language_info": {
   "codemirror_mode": {
    "name": "ipython",
    "version": 3
   },
   "file_extension": ".py",
   "mimetype": "text/x-python",
   "name": "python",
   "nbconvert_exporter": "python",
   "pygments_lexer": "ipython3",
   "version": "3.7.10"
  }
 },
 "nbformat": 4,
 "nbformat_minor": 5
}
