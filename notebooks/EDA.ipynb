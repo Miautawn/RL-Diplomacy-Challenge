{
 "cells": [
  {
   "cell_type": "code",
   "execution_count": 1,
   "id": "eab92843",
   "metadata": {},
   "outputs": [],
   "source": [
    "import json\n",
    "import numpy as np"
   ]
  },
  {
   "cell_type": "code",
   "execution_count": 2,
   "id": "5e13ef5f",
   "metadata": {},
   "outputs": [
    {
     "name": "stdout",
     "output_type": "stream",
     "text": [
      "EDA.ipynb             \u001b[34mdiplomacy-v1-27k-msgs\u001b[m\u001b[m\r\n"
     ]
    }
   ],
   "source": [
    "!ls"
   ]
  },
  {
   "cell_type": "code",
   "execution_count": 3,
   "id": "e7ae34ba",
   "metadata": {},
   "outputs": [
    {
     "name": "stdout",
     "output_type": "stream",
     "text": [
      "other_maps.jsonl                  standard_press_without_msgs.jsonl\r\n",
      "standard_no_press.jsonl           standard_public_press.jsonl\r\n",
      "standard_press_with_msgs.jsonl\r\n"
     ]
    }
   ],
   "source": [
    "!ls ./diplomacy-v1-27k-msgs/"
   ]
  },
  {
   "cell_type": "markdown",
   "id": "9b931613",
   "metadata": {},
   "source": [
    "# Loading the data"
   ]
  },
  {
   "cell_type": "code",
   "execution_count": 4,
   "id": "29ab22ca",
   "metadata": {},
   "outputs": [],
   "source": [
    "#creating a dataset generators\n",
    "no_press_dataset = (json.loads(line) for line in open(\"./diplomacy-v1-27k-msgs/standard_no_press.jsonl\", \"r\"))\n",
    "press_dataset = (json.loads(line) for line in open(\"./diplomacy-v1-27k-msgs/standard_press_without_msgs.jsonl\", \"r\"))"
   ]
  },
  {
   "cell_type": "code",
   "execution_count": 5,
   "id": "f62f799c",
   "metadata": {},
   "outputs": [],
   "source": [
    "# reading no_press dataset\n",
    "no_press = []\n",
    "for game in no_press_dataset:\n",
    "    no_press.append(game)\n",
    "no_press = np.array(no_press)"
   ]
  },
  {
   "cell_type": "markdown",
   "id": "2affce74",
   "metadata": {},
   "source": [
    "# EDA"
   ]
  },
  {
   "cell_type": "code",
   "execution_count": 9,
   "id": "ac543d23",
   "metadata": {},
   "outputs": [
    {
     "name": "stdout",
     "output_type": "stream",
     "text": [
      "no_press dataset has: 33279 games\n"
     ]
    }
   ],
   "source": [
    "print(f\"no_press dataset has: {len(no_press)} games\")"
   ]
  },
  {
   "cell_type": "markdown",
   "id": "c9adc42d",
   "metadata": {},
   "source": [
    "An example of a singlular game record"
   ]
  },
  {
   "cell_type": "code",
   "execution_count": 10,
   "id": "af0fe237",
   "metadata": {},
   "outputs": [
    {
     "data": {
      "text/plain": [
       "{'id': 'uXFQ2zgI-DUrgwlS',\n",
       " 'map': 'standard',\n",
       " 'rules': ['NO_PRESS', 'POWER_CHOICE'],\n",
       " 'phases': [{'name': 'S1901M',\n",
       "   'state': {'timestamp': 1542989951416213,\n",
       "    'zobrist_hash': '1919110489198082658',\n",
       "    'note': '',\n",
       "    'name': 'S1901M',\n",
       "    'units': {'AUSTRIA': ['A BUD', 'A VIE', 'F TRI'],\n",
       "     'ENGLAND': ['F EDI', 'F LON', 'A LVP'],\n",
       "     'FRANCE': ['F BRE', 'A MAR', 'A PAR'],\n",
       "     'GERMANY': ['F KIE', 'A BER', 'A MUN'],\n",
       "     'ITALY': ['F NAP', 'A ROM', 'A VEN'],\n",
       "     'RUSSIA': ['A WAR', 'A MOS', 'F SEV', 'F STP/SC'],\n",
       "     'TURKEY': ['F ANK', 'A CON', 'A SMY']},\n",
       "    'centers': {'AUSTRIA': ['BUD', 'TRI', 'VIE'],\n",
       "     'ENGLAND': ['EDI', 'LON', 'LVP'],\n",
       "     'FRANCE': ['BRE', 'MAR', 'PAR'],\n",
       "     'GERMANY': ['BER', 'KIE', 'MUN'],\n",
       "     'ITALY': ['NAP', 'ROM', 'VEN'],\n",
       "     'RUSSIA': ['MOS', 'SEV', 'STP', 'WAR'],\n",
       "     'TURKEY': ['ANK', 'CON', 'SMY']},\n",
       "    'homes': {'AUSTRIA': ['BUD', 'TRI', 'VIE'],\n",
       "     'ENGLAND': ['EDI', 'LON', 'LVP'],\n",
       "     'FRANCE': ['BRE', 'MAR', 'PAR'],\n",
       "     'GERMANY': ['BER', 'KIE', 'MUN'],\n",
       "     'ITALY': ['NAP', 'ROM', 'VEN'],\n",
       "     'RUSSIA': ['MOS', 'SEV', 'STP', 'WAR'],\n",
       "     'TURKEY': ['ANK', 'CON', 'SMY']},\n",
       "    'influence': {'AUSTRIA': ['BUD', 'VIE', 'TRI'],\n",
       "     'ENGLAND': ['EDI', 'LON', 'LVP'],\n",
       "     'FRANCE': ['BRE', 'MAR', 'PAR'],\n",
       "     'GERMANY': ['KIE', 'BER', 'MUN'],\n",
       "     'ITALY': ['NAP', 'ROM', 'VEN'],\n",
       "     'RUSSIA': ['WAR', 'MOS', 'SEV', 'STP'],\n",
       "     'TURKEY': ['ANK', 'CON', 'SMY']},\n",
       "    'civil_disorder': {'AUSTRIA': 0,\n",
       "     'ENGLAND': 0,\n",
       "     'FRANCE': 0,\n",
       "     'GERMANY': 0,\n",
       "     'ITALY': 0,\n",
       "     'RUSSIA': 0,\n",
       "     'TURKEY': 0},\n",
       "    'builds': {'AUSTRIA': {'count': 0, 'homes': []},\n",
       "     'ENGLAND': {'count': 0, 'homes': []},\n",
       "     'FRANCE': {'count': 0, 'homes': []},\n",
       "     'GERMANY': {'count': 0, 'homes': []},\n",
       "     'ITALY': {'count': 0, 'homes': []},\n",
       "     'RUSSIA': {'count': 0, 'homes': []},\n",
       "     'TURKEY': {'count': 0, 'homes': []}},\n",
       "    'game_id': 'uXFQ2zgI-DUrgwlS',\n",
       "    'map': 'standard',\n",
       "    'rules': ['NO_PRESS', 'POWER_CHOICE'],\n",
       "    'retreats': {'AUSTRIA': {},\n",
       "     'ENGLAND': {},\n",
       "     'FRANCE': {},\n",
       "     'GERMANY': {},\n",
       "     'ITALY': {},\n",
       "     'RUSSIA': {},\n",
       "     'TURKEY': {}}},\n",
       "   'orders': {'AUSTRIA': ['F TRI H', 'A VIE H', 'A BUD - SER'],\n",
       "    'ENGLAND': ['A LVP - EDI', 'F EDI - NWG', 'F LON - NTH'],\n",
       "    'FRANCE': ['F BRE - MAO', 'A PAR - PIC', 'A MAR - SPA'],\n",
       "    'GERMANY': ['A MUN H', 'A BER H', 'F KIE H'],\n",
       "    'ITALY': ['F NAP H', 'A VEN H', 'A ROM H'],\n",
       "    'RUSSIA': ['A MOS H', 'F STP/SC H', 'F SEV H', 'A WAR H'],\n",
       "    'TURKEY': ['A SMY H', 'F ANK H', 'A CON H']},\n",
       "   'results': {'A BUD': [],\n",
       "    'A VIE': [],\n",
       "    'F TRI': [],\n",
       "    'F EDI': [],\n",
       "    'F LON': [],\n",
       "    'A LVP': [],\n",
       "    'F BRE': [],\n",
       "    'A MAR': [],\n",
       "    'A PAR': [],\n",
       "    'F KIE': [],\n",
       "    'A BER': [],\n",
       "    'A MUN': [],\n",
       "    'F NAP': [],\n",
       "    'A ROM': [],\n",
       "    'A VEN': [],\n",
       "    'A WAR': [],\n",
       "    'A MOS': [],\n",
       "    'F SEV': [],\n",
       "    'F STP/SC': [],\n",
       "    'F ANK': [],\n",
       "    'A CON': [],\n",
       "    'A SMY': []},\n",
       "   'messages': []},\n",
       "  {'name': 'F1901M',\n",
       "   'state': {'timestamp': 1542989951516763,\n",
       "    'zobrist_hash': '4320704398433074300',\n",
       "    'note': '',\n",
       "    'name': 'F1901M',\n",
       "    'units': {'AUSTRIA': ['A VIE', 'F TRI', 'A SER'],\n",
       "     'ENGLAND': ['F NWG', 'F NTH', 'A EDI'],\n",
       "     'FRANCE': ['F MAO', 'A SPA', 'A PIC'],\n",
       "     'GERMANY': ['F KIE', 'A BER', 'A MUN'],\n",
       "     'ITALY': ['F NAP', 'A ROM', 'A VEN'],\n",
       "     'RUSSIA': ['A WAR', 'A MOS', 'F SEV', 'F STP/SC'],\n",
       "     'TURKEY': ['F ANK', 'A CON', 'A SMY']},\n",
       "    'centers': {'AUSTRIA': ['BUD', 'TRI', 'VIE'],\n",
       "     'ENGLAND': ['EDI', 'LON', 'LVP'],\n",
       "     'FRANCE': ['BRE', 'MAR', 'PAR'],\n",
       "     'GERMANY': ['BER', 'KIE', 'MUN'],\n",
       "     'ITALY': ['NAP', 'ROM', 'VEN'],\n",
       "     'RUSSIA': ['MOS', 'SEV', 'STP', 'WAR'],\n",
       "     'TURKEY': ['ANK', 'CON', 'SMY']},\n",
       "    'homes': {'AUSTRIA': ['BUD', 'TRI', 'VIE'],\n",
       "     'ENGLAND': ['EDI', 'LON', 'LVP'],\n",
       "     'FRANCE': ['BRE', 'MAR', 'PAR'],\n",
       "     'GERMANY': ['BER', 'KIE', 'MUN'],\n",
       "     'ITALY': ['NAP', 'ROM', 'VEN'],\n",
       "     'RUSSIA': ['MOS', 'SEV', 'STP', 'WAR'],\n",
       "     'TURKEY': ['ANK', 'CON', 'SMY']},\n",
       "    'influence': {'AUSTRIA': ['BUD', 'VIE', 'TRI', 'SER'],\n",
       "     'ENGLAND': ['LON', 'LVP', 'NWG', 'NTH', 'EDI'],\n",
       "     'FRANCE': ['BRE', 'MAR', 'PAR', 'MAO', 'SPA', 'PIC'],\n",
       "     'GERMANY': ['KIE', 'BER', 'MUN'],\n",
       "     'ITALY': ['NAP', 'ROM', 'VEN'],\n",
       "     'RUSSIA': ['WAR', 'MOS', 'SEV', 'STP'],\n",
       "     'TURKEY': ['ANK', 'CON', 'SMY']},\n",
       "    'civil_disorder': {'AUSTRIA': 0,\n",
       "     'ENGLAND': 0,\n",
       "     'FRANCE': 0,\n",
       "     'GERMANY': 0,\n",
       "     'ITALY': 0,\n",
       "     'RUSSIA': 0,\n",
       "     'TURKEY': 0},\n",
       "    'builds': {'AUSTRIA': {'count': 0, 'homes': []},\n",
       "     'ENGLAND': {'count': 0, 'homes': []},\n",
       "     'FRANCE': {'count': 0, 'homes': []},\n",
       "     'GERMANY': {'count': 0, 'homes': []},\n",
       "     'ITALY': {'count': 0, 'homes': []},\n",
       "     'RUSSIA': {'count': 0, 'homes': []},\n",
       "     'TURKEY': {'count': 0, 'homes': []}},\n",
       "    'game_id': 'uXFQ2zgI-DUrgwlS',\n",
       "    'map': 'standard',\n",
       "    'rules': ['NO_PRESS', 'POWER_CHOICE'],\n",
       "    'retreats': {'AUSTRIA': {},\n",
       "     'ENGLAND': {},\n",
       "     'FRANCE': {},\n",
       "     'GERMANY': {},\n",
       "     'ITALY': {},\n",
       "     'RUSSIA': {},\n",
       "     'TURKEY': {}}},\n",
       "   'orders': {'AUSTRIA': ['A SER H', 'A VIE - TYR', 'F TRI - ADR'],\n",
       "    'ENGLAND': ['F NTH - HOL', 'A EDI - NWY VIA', 'F NWG C A EDI - NWY'],\n",
       "    'FRANCE': ['A SPA H', 'A PIC - BEL', 'F MAO - POR'],\n",
       "    'GERMANY': ['F KIE H', 'A BER H', 'A MUN H'],\n",
       "    'ITALY': ['A VEN H', 'A ROM H', 'F NAP H'],\n",
       "    'RUSSIA': ['A WAR - GAL', 'F SEV - BLA', 'F STP/SC - BOT', 'A MOS - UKR'],\n",
       "    'TURKEY': ['F ANK H', 'A CON - BUL', 'A SMY - CON']},\n",
       "   'results': {'A VIE': [],\n",
       "    'F TRI': [],\n",
       "    'A SER': [],\n",
       "    'F NWG': [],\n",
       "    'F NTH': [],\n",
       "    'A EDI': [],\n",
       "    'F MAO': [],\n",
       "    'A SPA': [],\n",
       "    'A PIC': [],\n",
       "    'F KIE': [],\n",
       "    'A BER': [],\n",
       "    'A MUN': [],\n",
       "    'F NAP': [],\n",
       "    'A ROM': [],\n",
       "    'A VEN': [],\n",
       "    'A WAR': [],\n",
       "    'A MOS': [],\n",
       "    'F SEV': [],\n",
       "    'F STP/SC': [],\n",
       "    'F ANK': [],\n",
       "    'A CON': [],\n",
       "    'A SMY': []},\n",
       "   'messages': []},\n",
       "  {'name': 'W1901A',\n",
       "   'state': {'timestamp': 1542989951524808,\n",
       "    'zobrist_hash': '6848311697839296292',\n",
       "    'note': '',\n",
       "    'name': 'W1901A',\n",
       "    'units': {'AUSTRIA': ['A SER', 'A TYR', 'F ADR'],\n",
       "     'ENGLAND': ['F NWG', 'F HOL', 'A NWY'],\n",
       "     'FRANCE': ['A SPA', 'F POR', 'A BEL'],\n",
       "     'GERMANY': ['F KIE', 'A BER', 'A MUN'],\n",
       "     'ITALY': ['F NAP', 'A ROM', 'A VEN'],\n",
       "     'RUSSIA': ['A GAL', 'A UKR', 'F BLA', 'F BOT'],\n",
       "     'TURKEY': ['F ANK', 'A BUL', 'A CON']},\n",
       "    'centers': {'AUSTRIA': ['BUD', 'TRI', 'VIE', 'SER'],\n",
       "     'ENGLAND': ['EDI', 'LON', 'LVP', 'HOL', 'NWY'],\n",
       "     'FRANCE': ['BRE', 'MAR', 'PAR', 'BEL', 'POR', 'SPA'],\n",
       "     'GERMANY': ['BER', 'KIE', 'MUN'],\n",
       "     'ITALY': ['NAP', 'ROM', 'VEN'],\n",
       "     'RUSSIA': ['MOS', 'SEV', 'STP', 'WAR'],\n",
       "     'TURKEY': ['ANK', 'CON', 'SMY', 'BUL']},\n",
       "    'homes': {'AUSTRIA': ['BUD', 'TRI', 'VIE'],\n",
       "     'ENGLAND': ['EDI', 'LON', 'LVP'],\n",
       "     'FRANCE': ['BRE', 'MAR', 'PAR'],\n",
       "     'GERMANY': ['BER', 'KIE', 'MUN'],\n",
       "     'ITALY': ['NAP', 'ROM', 'VEN'],\n",
       "     'RUSSIA': ['MOS', 'SEV', 'STP', 'WAR'],\n",
       "     'TURKEY': ['ANK', 'CON', 'SMY']},\n",
       "    'influence': {'AUSTRIA': ['BUD', 'VIE', 'TRI', 'SER', 'TYR', 'ADR'],\n",
       "     'ENGLAND': ['LON', 'LVP', 'NWG', 'NTH', 'EDI', 'HOL', 'NWY'],\n",
       "     'FRANCE': ['BRE', 'MAR', 'PAR', 'MAO', 'SPA', 'PIC', 'POR', 'BEL'],\n",
       "     'GERMANY': ['KIE', 'BER', 'MUN'],\n",
       "     'ITALY': ['NAP', 'ROM', 'VEN'],\n",
       "     'RUSSIA': ['WAR', 'MOS', 'SEV', 'STP', 'GAL', 'UKR', 'BLA', 'BOT'],\n",
       "     'TURKEY': ['ANK', 'SMY', 'BUL', 'CON']},\n",
       "    'civil_disorder': {'AUSTRIA': 0,\n",
       "     'ENGLAND': 0,\n",
       "     'FRANCE': 0,\n",
       "     'GERMANY': 0,\n",
       "     'ITALY': 0,\n",
       "     'RUSSIA': 0,\n",
       "     'TURKEY': 0},\n",
       "    'builds': {'AUSTRIA': {'count': 1, 'homes': ['BUD', 'TRI', 'VIE']},\n",
       "     'ENGLAND': {'count': 2, 'homes': ['EDI', 'LON', 'LVP']},\n",
       "     'FRANCE': {'count': 3, 'homes': ['BRE', 'MAR', 'PAR']},\n",
       "     'GERMANY': {'count': 0, 'homes': []},\n",
       "     'ITALY': {'count': 0, 'homes': []},\n",
       "     'RUSSIA': {'count': 0, 'homes': []},\n",
       "     'TURKEY': {'count': 1, 'homes': ['SMY']}},\n",
       "    'game_id': 'uXFQ2zgI-DUrgwlS',\n",
       "    'map': 'standard',\n",
       "    'rules': ['NO_PRESS', 'POWER_CHOICE'],\n",
       "    'retreats': {'AUSTRIA': {},\n",
       "     'ENGLAND': {},\n",
       "     'FRANCE': {},\n",
       "     'GERMANY': {},\n",
       "     'ITALY': {},\n",
       "     'RUSSIA': {},\n",
       "     'TURKEY': {}}},\n",
       "   'orders': {'AUSTRIA': ['A TRI B'],\n",
       "    'ENGLAND': ['A EDI B', 'F LON B'],\n",
       "    'FRANCE': ['A BRE B', 'A PAR B', 'F MAR B'],\n",
       "    'GERMANY': [],\n",
       "    'ITALY': [],\n",
       "    'RUSSIA': [],\n",
       "    'TURKEY': []},\n",
       "   'results': {'A TRI': [''],\n",
       "    'A EDI': [''],\n",
       "    'F LON': [''],\n",
       "    'A BRE': [''],\n",
       "    'A PAR': [''],\n",
       "    'F MAR': ['']},\n",
       "   'messages': []},\n",
       "  {'name': 'S1902M',\n",
       "   'state': {'timestamp': 1542989951578931,\n",
       "    'zobrist_hash': '5028800461491315343',\n",
       "    'note': '',\n",
       "    'name': 'S1902M',\n",
       "    'units': {'AUSTRIA': ['A SER', 'A TYR', 'F ADR', 'A TRI'],\n",
       "     'ENGLAND': ['F NWG', 'F HOL', 'A NWY', 'A EDI', 'F LON'],\n",
       "     'FRANCE': ['A SPA', 'F POR', 'A BEL', 'A BRE', 'A PAR', 'F MAR'],\n",
       "     'GERMANY': ['F KIE', 'A BER', 'A MUN'],\n",
       "     'ITALY': ['F NAP', 'A ROM', 'A VEN'],\n",
       "     'RUSSIA': ['A GAL', 'A UKR', 'F BLA', 'F BOT'],\n",
       "     'TURKEY': ['F ANK', 'A BUL', 'A CON']},\n",
       "    'centers': {'AUSTRIA': ['BUD', 'TRI', 'VIE', 'SER'],\n",
       "     'ENGLAND': ['EDI', 'LON', 'LVP', 'HOL', 'NWY'],\n",
       "     'FRANCE': ['BRE', 'MAR', 'PAR', 'BEL', 'POR', 'SPA'],\n",
       "     'GERMANY': ['BER', 'KIE', 'MUN'],\n",
       "     'ITALY': ['NAP', 'ROM', 'VEN'],\n",
       "     'RUSSIA': ['MOS', 'SEV', 'STP', 'WAR'],\n",
       "     'TURKEY': ['ANK', 'CON', 'SMY', 'BUL']},\n",
       "    'homes': {'AUSTRIA': ['BUD', 'TRI', 'VIE'],\n",
       "     'ENGLAND': ['EDI', 'LON', 'LVP'],\n",
       "     'FRANCE': ['BRE', 'MAR', 'PAR'],\n",
       "     'GERMANY': ['BER', 'KIE', 'MUN'],\n",
       "     'ITALY': ['NAP', 'ROM', 'VEN'],\n",
       "     'RUSSIA': ['MOS', 'SEV', 'STP', 'WAR'],\n",
       "     'TURKEY': ['ANK', 'CON', 'SMY']},\n",
       "    'influence': {'AUSTRIA': ['BUD', 'VIE', 'TRI', 'SER', 'TYR', 'ADR'],\n",
       "     'ENGLAND': ['LON', 'LVP', 'NWG', 'NTH', 'EDI', 'HOL', 'NWY'],\n",
       "     'FRANCE': ['BRE', 'MAR', 'PAR', 'MAO', 'SPA', 'PIC', 'POR', 'BEL'],\n",
       "     'GERMANY': ['KIE', 'BER', 'MUN'],\n",
       "     'ITALY': ['NAP', 'ROM', 'VEN'],\n",
       "     'RUSSIA': ['WAR', 'MOS', 'SEV', 'STP', 'GAL', 'UKR', 'BLA', 'BOT'],\n",
       "     'TURKEY': ['ANK', 'SMY', 'BUL', 'CON']},\n",
       "    'civil_disorder': {'AUSTRIA': 0,\n",
       "     'ENGLAND': 0,\n",
       "     'FRANCE': 0,\n",
       "     'GERMANY': 0,\n",
       "     'ITALY': 0,\n",
       "     'RUSSIA': 0,\n",
       "     'TURKEY': 0},\n",
       "    'builds': {'AUSTRIA': {'count': 0, 'homes': []},\n",
       "     'ENGLAND': {'count': 0, 'homes': []},\n",
       "     'FRANCE': {'count': 0, 'homes': []},\n",
       "     'GERMANY': {'count': 0, 'homes': []},\n",
       "     'ITALY': {'count': 0, 'homes': []},\n",
       "     'RUSSIA': {'count': 0, 'homes': []},\n",
       "     'TURKEY': {'count': 0, 'homes': []}},\n",
       "    'game_id': 'uXFQ2zgI-DUrgwlS',\n",
       "    'map': 'standard',\n",
       "    'rules': ['NO_PRESS', 'POWER_CHOICE'],\n",
       "    'retreats': {'AUSTRIA': {},\n",
       "     'ENGLAND': {},\n",
       "     'FRANCE': {},\n",
       "     'GERMANY': {},\n",
       "     'ITALY': {},\n",
       "     'RUSSIA': {},\n",
       "     'TURKEY': {}}},\n",
       "   'orders': {'AUSTRIA': ['A SER - GRE',\n",
       "     'A TRI - VIE',\n",
       "     'F ADR - VEN',\n",
       "     'A TYR S F ADR - VEN'],\n",
       "    'ENGLAND': ['A EDI H',\n",
       "     'F HOL H',\n",
       "     'F LON - NTH',\n",
       "     'F NWG - BAR',\n",
       "     'A NWY - SWE'],\n",
       "    'FRANCE': ['A BEL H',\n",
       "     'A SPA - POR',\n",
       "     'F POR - SPA/SC',\n",
       "     'F MAR - PIE',\n",
       "     'A PAR - BUR',\n",
       "     'A BRE - PAR'],\n",
       "    'GERMANY': ['A BER H', 'F KIE H', 'A MUN H'],\n",
       "    'ITALY': ['F NAP H', 'A ROM H', 'A VEN H'],\n",
       "    'RUSSIA': ['A GAL - VIE',\n",
       "     'F BOT - STP/SC',\n",
       "     'A UKR - RUM',\n",
       "     'F BLA S A UKR - RUM'],\n",
       "    'TURKEY': ['A CON H', 'F ANK H', 'A BUL H']},\n",
       "   'results': {'A SER': [],\n",
       "    'A TYR': [],\n",
       "    'F ADR': [],\n",
       "    'A TRI': ['bounce'],\n",
       "    'F NWG': [],\n",
       "    'F HOL': [],\n",
       "    'A NWY': [],\n",
       "    'A EDI': [],\n",
       "    'F LON': [],\n",
       "    'A SPA': ['bounce'],\n",
       "    'F POR': ['bounce'],\n",
       "    'A BEL': [],\n",
       "    'A BRE': [],\n",
       "    'A PAR': [],\n",
       "    'F MAR': [],\n",
       "    'F KIE': [],\n",
       "    'A BER': [],\n",
       "    'A MUN': [],\n",
       "    'F NAP': [],\n",
       "    'A ROM': [],\n",
       "    'A VEN': ['dislodged'],\n",
       "    'A GAL': ['bounce'],\n",
       "    'A UKR': [],\n",
       "    'F BLA': [],\n",
       "    'F BOT': [],\n",
       "    'F ANK': [],\n",
       "    'A BUL': [],\n",
       "    'A CON': []},\n",
       "   'messages': []},\n",
       "  {'name': 'S1902R',\n",
       "   'state': {'timestamp': 1542989951679872,\n",
       "    'zobrist_hash': '1612149465811863102',\n",
       "    'note': '',\n",
       "    'name': 'S1902R',\n",
       "    'units': {'AUSTRIA': ['A TYR', 'A TRI', 'A GRE', 'F VEN'],\n",
       "     'ENGLAND': ['F HOL', 'A EDI', 'F BAR', 'A SWE', 'F NTH'],\n",
       "     'FRANCE': ['A SPA', 'F POR', 'A BEL', 'A PAR', 'A BUR', 'F PIE'],\n",
       "     'GERMANY': ['F KIE', 'A BER', 'A MUN'],\n",
       "     'ITALY': ['F NAP', 'A ROM', '*A VEN'],\n",
       "     'RUSSIA': ['A GAL', 'F BLA', 'A RUM', 'F STP/SC'],\n",
       "     'TURKEY': ['F ANK', 'A BUL', 'A CON']},\n",
       "    'centers': {'AUSTRIA': ['BUD', 'TRI', 'VIE', 'SER'],\n",
       "     'ENGLAND': ['EDI', 'LON', 'LVP', 'HOL', 'NWY'],\n",
       "     'FRANCE': ['BRE', 'MAR', 'PAR', 'BEL', 'POR', 'SPA'],\n",
       "     'GERMANY': ['BER', 'KIE', 'MUN'],\n",
       "     'ITALY': ['NAP', 'ROM', 'VEN'],\n",
       "     'RUSSIA': ['MOS', 'SEV', 'STP', 'WAR'],\n",
       "     'TURKEY': ['ANK', 'CON', 'SMY', 'BUL']},\n",
       "    'homes': {'AUSTRIA': ['BUD', 'TRI', 'VIE'],\n",
       "     'ENGLAND': ['EDI', 'LON', 'LVP'],\n",
       "     'FRANCE': ['BRE', 'MAR', 'PAR'],\n",
       "     'GERMANY': ['BER', 'KIE', 'MUN'],\n",
       "     'ITALY': ['NAP', 'ROM', 'VEN'],\n",
       "     'RUSSIA': ['MOS', 'SEV', 'STP', 'WAR'],\n",
       "     'TURKEY': ['ANK', 'CON', 'SMY']},\n",
       "    'influence': {'AUSTRIA': ['BUD',\n",
       "      'VIE',\n",
       "      'TRI',\n",
       "      'SER',\n",
       "      'TYR',\n",
       "      'ADR',\n",
       "      'GRE',\n",
       "      'VEN'],\n",
       "     'ENGLAND': ['LON',\n",
       "      'LVP',\n",
       "      'NWG',\n",
       "      'EDI',\n",
       "      'HOL',\n",
       "      'NWY',\n",
       "      'BAR',\n",
       "      'SWE',\n",
       "      'NTH'],\n",
       "     'FRANCE': ['BRE',\n",
       "      'MAR',\n",
       "      'MAO',\n",
       "      'SPA',\n",
       "      'PIC',\n",
       "      'POR',\n",
       "      'BEL',\n",
       "      'PAR',\n",
       "      'BUR',\n",
       "      'PIE'],\n",
       "     'GERMANY': ['KIE', 'BER', 'MUN'],\n",
       "     'ITALY': ['NAP', 'ROM'],\n",
       "     'RUSSIA': ['WAR', 'MOS', 'SEV', 'GAL', 'UKR', 'BLA', 'BOT', 'RUM', 'STP'],\n",
       "     'TURKEY': ['ANK', 'SMY', 'BUL', 'CON']},\n",
       "    'civil_disorder': {'AUSTRIA': 0,\n",
       "     'ENGLAND': 0,\n",
       "     'FRANCE': 0,\n",
       "     'GERMANY': 0,\n",
       "     'ITALY': 0,\n",
       "     'RUSSIA': 0,\n",
       "     'TURKEY': 0},\n",
       "    'builds': {'AUSTRIA': {'count': 0, 'homes': []},\n",
       "     'ENGLAND': {'count': 0, 'homes': []},\n",
       "     'FRANCE': {'count': 0, 'homes': []},\n",
       "     'GERMANY': {'count': 0, 'homes': []},\n",
       "     'ITALY': {'count': 0, 'homes': []},\n",
       "     'RUSSIA': {'count': 0, 'homes': []},\n",
       "     'TURKEY': {'count': 0, 'homes': []}},\n",
       "    'game_id': 'uXFQ2zgI-DUrgwlS',\n",
       "    'map': 'standard',\n",
       "    'rules': ['NO_PRESS', 'POWER_CHOICE'],\n",
       "    'retreats': {'AUSTRIA': {},\n",
       "     'ENGLAND': {},\n",
       "     'FRANCE': {},\n",
       "     'GERMANY': {},\n",
       "     'ITALY': {'A VEN': ['APU', 'TUS']},\n",
       "     'RUSSIA': {},\n",
       "     'TURKEY': {}}},\n",
       "   'orders': {'AUSTRIA': [],\n",
       "    'ENGLAND': [],\n",
       "    'FRANCE': [],\n",
       "    'GERMANY': [],\n",
       "    'ITALY': ['A VEN D'],\n",
       "    'RUSSIA': [],\n",
       "    'TURKEY': []},\n",
       "   'results': {},\n",
       "   'messages': []}]}"
      ]
     },
     "execution_count": 10,
     "metadata": {},
     "output_type": "execute_result"
    }
   ],
   "source": [
    "no_press[0]"
   ]
  },
  {
   "cell_type": "markdown",
   "id": "b20ad79d",
   "metadata": {},
   "source": [
    "At the top of the structure we have 4 keys:\n",
    "1. the game id (not important)\n",
    "2. the map of the game (maybe important since there are variations)\n",
    "3. rules (as the paper suggest, there are important variations)\n",
    "4. the phases of the game (our main data)"
   ]
  },
  {
   "cell_type": "code",
   "execution_count": 14,
   "id": "44bd178e",
   "metadata": {},
   "outputs": [
    {
     "name": "stdout",
     "output_type": "stream",
     "text": [
      "main keys: dict_keys(['id', 'map', 'rules', 'phases'])\n"
     ]
    }
   ],
   "source": [
    "print(f\"main keys: {no_press[0].keys()}\")"
   ]
  },
  {
   "cell_type": "markdown",
   "id": "ea10b3bd",
   "metadata": {},
   "source": [
    "### Exploring the maps"
   ]
  },
  {
   "cell_type": "code",
   "execution_count": 49,
   "id": "ad9696a5",
   "metadata": {},
   "outputs": [
    {
     "name": "stdout",
     "output_type": "stream",
     "text": [
      "unique maps in no press: {'standard', 'standard_germany_italy', 'standard_france_austria'}\n"
     ]
    }
   ],
   "source": [
    "maps = []\n",
    "for game in no_press:\n",
    "    maps.append(game[\"map\"])\n",
    "    \n",
    "print(f\"unique maps in no press: {set(maps)}\")"
   ]
  },
  {
   "cell_type": "markdown",
   "id": "9e32f79a",
   "metadata": {},
   "source": [
    "There are 3 variations of maps in the no_press dataset:\n",
    "* standard, where all 7 players play the game  \n",
    "* standard_germany_italy & standard_france_austria, where there are only 2 players (this is reflected in the data):"
   ]
  },
  {
   "cell_type": "code",
   "execution_count": 73,
   "id": "0122d9bf",
   "metadata": {},
   "outputs": [
    {
     "data": {
      "text/plain": [
       "{'AUSTRIA': ['A BUD', 'A VIE', 'F TRI'],\n",
       " 'ENGLAND': ['F EDI', 'F LON', 'A LVP'],\n",
       " 'FRANCE': ['F BRE', 'A MAR', 'A PAR'],\n",
       " 'GERMANY': ['F KIE', 'A BER', 'A MUN'],\n",
       " 'ITALY': ['F NAP', 'A ROM', 'A VEN'],\n",
       " 'RUSSIA': ['A WAR', 'A MOS', 'F SEV', 'F STP/SC'],\n",
       " 'TURKEY': ['F ANK', 'A CON', 'A SMY']}"
      ]
     },
     "execution_count": 73,
     "metadata": {},
     "output_type": "execute_result"
    }
   ],
   "source": [
    "# players of the standard map\n",
    "no_press[0][\"phases\"][0][\"state\"][\"units\"]"
   ]
  },
  {
   "cell_type": "code",
   "execution_count": 74,
   "id": "f15327e9",
   "metadata": {},
   "outputs": [
    {
     "data": {
      "text/plain": [
       "{'GERMANY': ['F KIE', 'A BER', 'A MUN'], 'ITALY': ['F NAP', 'A ROM', 'A VEN']}"
      ]
     },
     "execution_count": 74,
     "metadata": {},
     "output_type": "execute_result"
    }
   ],
   "source": [
    "# players of the standard_germany_italy\n",
    "no_press[3][\"phases\"][0][\"state\"][\"units\"]"
   ]
  },
  {
   "cell_type": "code",
   "execution_count": 152,
   "id": "35549774",
   "metadata": {},
   "outputs": [
    {
     "data": {
      "text/plain": [
       "{'standard': 0.6585233931308032,\n",
       " 'standard_france_austria': 0.22311367529072387,\n",
       " 'standard_germany_italy': 0.11836293157847291}"
      ]
     },
     "execution_count": 152,
     "metadata": {},
     "output_type": "execute_result"
    }
   ],
   "source": [
    "# map distributions\n",
    "map_arr = np.array(maps)\n",
    "map_names, counts = np.unique(map_arr, return_counts = True)\n",
    "dict(zip(map_names, counts / len(map_arr)))"
   ]
  },
  {
   "cell_type": "markdown",
   "id": "8c4ef817",
   "metadata": {},
   "source": [
    "As the paper says, the standard map is the most played one."
   ]
  },
  {
   "cell_type": "markdown",
   "id": "e1c9a682",
   "metadata": {},
   "source": [
    "### Exploring the rules"
   ]
  },
  {
   "cell_type": "code",
   "execution_count": 118,
   "id": "ed0e972a",
   "metadata": {},
   "outputs": [],
   "source": [
    "rules = []\n",
    "for game in no_press:\n",
    "    rules.append(game[\"rules\"])\n",
    "rules = np.array(rules, dtype = list)"
   ]
  },
  {
   "cell_type": "code",
   "execution_count": 129,
   "id": "f0a52c02",
   "metadata": {},
   "outputs": [
    {
     "name": "stdout",
     "output_type": "stream",
     "text": [
      "Unique sets of rules for no_press dataset are:\n",
      " [list(['BUILD_ANY', 'NO_PRESS', 'POWER_CHOICE'])\n",
      " list(['NO_CHECK', 'NO_PRESS', 'POWER_CHOICE'])\n",
      " list(['NO_PRESS', 'POWER_CHOICE'])]\n"
     ]
    }
   ],
   "source": [
    "print(f\"Unique sets of rules for no_press dataset are:\\n {np.unique(b)}\")"
   ]
  },
  {
   "cell_type": "markdown",
   "id": "141c2dab",
   "metadata": {},
   "source": [
    "Just as described in the paper, there are variations in the rules. The most important one being the \"no_check\" rule, which according to the paper does not allow to send invalid orders."
   ]
  },
  {
   "cell_type": "code",
   "execution_count": 157,
   "id": "b5b3b661",
   "metadata": {},
   "outputs": [
    {
     "data": {
      "text/plain": [
       "[(['BUILD_ANY', 'NO_PRESS', 'POWER_CHOICE'], 3.004897983713453e-05),\n",
       " (['NO_CHECK', 'NO_PRESS', 'POWER_CHOICE'], 0.06730971483518135),\n",
       " (['NO_PRESS', 'POWER_CHOICE'], 0.9326602361849815)]"
      ]
     },
     "execution_count": 157,
     "metadata": {},
     "output_type": "execute_result"
    }
   ],
   "source": [
    "# rule set distrivutions\n",
    "rule_sets, counts = np.unique(rules, return_counts = True)\n",
    "list(zip(rule_sets, counts / len(rules)))"
   ]
  },
  {
   "cell_type": "markdown",
   "id": "7220bae1",
   "metadata": {},
   "source": [
    "It seems, that the \"no_check\" rule is quite rarely used, as it appears only in ~7% of the games"
   ]
  },
  {
   "cell_type": "markdown",
   "id": "e3f06cd0",
   "metadata": {},
   "source": [
    "## Exploring phases and their data structures"
   ]
  },
  {
   "cell_type": "code",
   "execution_count": 191,
   "id": "926a6d27",
   "metadata": {},
   "outputs": [
    {
     "data": {
      "text/plain": [
       "{'name': 'S1901M',\n",
       " 'state': {'timestamp': 1542989951906804,\n",
       "  'zobrist_hash': '3359746340891294214',\n",
       "  'note': '',\n",
       "  'name': 'S1901M',\n",
       "  'units': {'GERMANY': ['F KIE', 'A BER', 'A MUN'],\n",
       "   'ITALY': ['F NAP', 'A ROM', 'A VEN']},\n",
       "  'centers': {'GERMANY': ['BER', 'KIE', 'MUN'],\n",
       "   'ITALY': ['NAP', 'ROM', 'VEN']},\n",
       "  'homes': {'GERMANY': ['BER', 'KIE', 'MUN'], 'ITALY': ['NAP', 'ROM', 'VEN']},\n",
       "  'influence': {'GERMANY': ['KIE', 'BER', 'MUN'],\n",
       "   'ITALY': ['NAP', 'ROM', 'VEN']},\n",
       "  'civil_disorder': {'GERMANY': 0, 'ITALY': 0},\n",
       "  'builds': {'GERMANY': {'count': 0, 'homes': []},\n",
       "   'ITALY': {'count': 0, 'homes': []}},\n",
       "  'game_id': '0Fl3BreFivkwKWvd',\n",
       "  'map': 'standard_germany_italy',\n",
       "  'rules': ['NO_PRESS', 'POWER_CHOICE'],\n",
       "  'retreats': {'GERMANY': {}, 'ITALY': {}}},\n",
       " 'orders': {'GERMANY': ['F KIE - HOL', 'A MUN - TYR', 'A BER - SIL'],\n",
       "  'ITALY': ['F NAP - ION', 'A ROM - APU', 'A VEN - TYR']},\n",
       " 'results': {'F KIE': [],\n",
       "  'A BER': [],\n",
       "  'A MUN': ['bounce'],\n",
       "  'F NAP': [],\n",
       "  'A ROM': [],\n",
       "  'A VEN': ['bounce']},\n",
       " 'messages': []}"
      ]
     },
     "execution_count": 191,
     "metadata": {},
     "output_type": "execute_result"
    }
   ],
   "source": [
    "no_press[1][\"phases\"][0]"
   ]
  },
  {
   "cell_type": "markdown",
   "id": "db945a26",
   "metadata": {},
   "source": [
    "Let's analyse this by taking each field and looking if it's important and how to interpret it"
   ]
  },
  {
   "cell_type": "markdown",
   "id": "2abab93c",
   "metadata": {},
   "source": [
    "## Name"
   ]
  },
  {
   "cell_type": "code",
   "execution_count": 192,
   "id": "468c68c4",
   "metadata": {},
   "outputs": [
    {
     "data": {
      "text/plain": [
       "'S1901M'"
      ]
     },
     "execution_count": 192,
     "metadata": {},
     "output_type": "execute_result"
    }
   ],
   "source": [
    "no_press[1][\"phases\"][0][\"name\"]"
   ]
  },
  {
   "cell_type": "markdown",
   "id": "8b950a67",
   "metadata": {},
   "source": [
    "name - it's the name of the phase. This names encodes 3 things:\n",
    "1. The season of the year (S - spring, F - fall, W - winter)\n",
    "2. The year (only a vanity I believe)\n",
    "3. The phase variant (M - move, R - retreat, A - adjust)\n",
    "\n",
    "How seasons work and their variants are explained in the paper, however the only noteworthy thing is that it seems like reatreating phases (either Spring or Fall) are initiated on demand (i.e. after a succesful attack), because retreatement phases do not always follow the move phases."
   ]
  },
  {
   "cell_type": "markdown",
   "id": "8fe7e7c6",
   "metadata": {},
   "source": [
    "## State"
   ]
  },
  {
   "cell_type": "markdown",
   "id": "77ec9fe3",
   "metadata": {},
   "source": [
    "Then we have a \"state\" field which includes all of the information for the current board state (excluding the move orders, attack results)"
   ]
  },
  {
   "cell_type": "code",
   "execution_count": 193,
   "id": "577b89d2",
   "metadata": {},
   "outputs": [
    {
     "data": {
      "text/plain": [
       "{'timestamp': 1542989951906804,\n",
       " 'zobrist_hash': '3359746340891294214',\n",
       " 'note': '',\n",
       " 'name': 'S1901M',\n",
       " 'units': {'GERMANY': ['F KIE', 'A BER', 'A MUN'],\n",
       "  'ITALY': ['F NAP', 'A ROM', 'A VEN']},\n",
       " 'centers': {'GERMANY': ['BER', 'KIE', 'MUN'], 'ITALY': ['NAP', 'ROM', 'VEN']},\n",
       " 'homes': {'GERMANY': ['BER', 'KIE', 'MUN'], 'ITALY': ['NAP', 'ROM', 'VEN']},\n",
       " 'influence': {'GERMANY': ['KIE', 'BER', 'MUN'],\n",
       "  'ITALY': ['NAP', 'ROM', 'VEN']},\n",
       " 'civil_disorder': {'GERMANY': 0, 'ITALY': 0},\n",
       " 'builds': {'GERMANY': {'count': 0, 'homes': []},\n",
       "  'ITALY': {'count': 0, 'homes': []}},\n",
       " 'game_id': '0Fl3BreFivkwKWvd',\n",
       " 'map': 'standard_germany_italy',\n",
       " 'rules': ['NO_PRESS', 'POWER_CHOICE'],\n",
       " 'retreats': {'GERMANY': {}, 'ITALY': {}}}"
      ]
     },
     "execution_count": 193,
     "metadata": {},
     "output_type": "execute_result"
    }
   ],
   "source": [
    "no_press[1][\"phases\"][0][\"state\"]"
   ]
  },
  {
   "cell_type": "markdown",
   "id": "a43461cc",
   "metadata": {},
   "source": [
    "There is some repeating or unnecessary information such as rules, map name, game id, timestamps, ect."
   ]
  },
  {
   "cell_type": "markdown",
   "id": "fd81adad",
   "metadata": {},
   "source": [
    "## Units"
   ]
  },
  {
   "cell_type": "code",
   "execution_count": 195,
   "id": "e52ba250",
   "metadata": {},
   "outputs": [
    {
     "data": {
      "text/plain": [
       "{'GERMANY': ['F KIE', 'A BER', 'A MUN'], 'ITALY': ['F NAP', 'A ROM', 'A VEN']}"
      ]
     },
     "execution_count": 195,
     "metadata": {},
     "output_type": "execute_result"
    }
   ],
   "source": [
    "no_press[1][\"phases\"][0][\"state\"][\"units\"]"
   ]
  },
  {
   "cell_type": "markdown",
   "id": "375ec81a",
   "metadata": {},
   "source": [
    "This field includes all the powers and their units together with their locations\n",
    "The structure is: (```unit_type```  ```province```)  \n",
    "\n",
    "```unit_type``` - A for army, F for fleet  \n",
    "```province``` - the province name abreviation"
   ]
  },
  {
   "cell_type": "markdown",
   "id": "bf9e7ed4",
   "metadata": {},
   "source": [
    "## Centers"
   ]
  },
  {
   "cell_type": "code",
   "execution_count": 196,
   "id": "e0f436de",
   "metadata": {},
   "outputs": [
    {
     "data": {
      "text/plain": [
       "{'GERMANY': ['BER', 'KIE', 'MUN'], 'ITALY': ['NAP', 'ROM', 'VEN']}"
      ]
     },
     "execution_count": 196,
     "metadata": {},
     "output_type": "execute_result"
    }
   ],
   "source": [
    "no_press[1][\"phases\"][0][\"state\"][\"centers\"]"
   ]
  },
  {
   "cell_type": "markdown",
   "id": "9db2a7f5",
   "metadata": {},
   "source": [
    "This field includes all the powers and their center locations\n",
    "The structure is: (```province1```, ```province2``` ... )  \n",
    "\n",
    "```province``` - the province name abreviation where the center stands"
   ]
  },
  {
   "cell_type": "markdown",
   "id": "b015ac01",
   "metadata": {},
   "source": [
    "## Homes"
   ]
  },
  {
   "cell_type": "code",
   "execution_count": 198,
   "id": "707ca08e",
   "metadata": {},
   "outputs": [
    {
     "data": {
      "text/plain": [
       "{'GERMANY': ['BER', 'KIE', 'MUN'], 'ITALY': ['NAP', 'ROM', 'VEN']}"
      ]
     },
     "execution_count": 198,
     "metadata": {},
     "output_type": "execute_result"
    }
   ],
   "source": [
    "no_press[1][\"phases\"][0][\"state\"][\"homes\"]"
   ]
  },
  {
   "cell_type": "markdown",
   "id": "5b76104d",
   "metadata": {},
   "source": [
    "These are the original power's supply center locations, These are the only centers which can build units during adjustment phases. The structure is: (```province1```, ```province2``` ... )  \n",
    "\n",
    "```province``` - the province name abreviation where the home supply center stands"
   ]
  },
  {
   "cell_type": "markdown",
   "id": "c1b7a81a",
   "metadata": {},
   "source": [
    "## Influence"
   ]
  },
  {
   "cell_type": "code",
   "execution_count": 241,
   "id": "f6f4e075",
   "metadata": {},
   "outputs": [
    {
     "data": {
      "text/plain": [
       "{'GERMANY': ['KIE', 'BER', 'MUN', 'HOL', 'SIL'],\n",
       " 'ITALY': ['NAP', 'ROM', 'VEN', 'ION', 'APU']}"
      ]
     },
     "execution_count": 241,
     "metadata": {},
     "output_type": "execute_result"
    }
   ],
   "source": [
    "no_press[1][\"phases\"][1][\"state\"][\"influence\"]"
   ]
  },
  {
   "cell_type": "markdown",
   "id": "d8adf0f0",
   "metadata": {},
   "source": [
    "These are the supply centers which are currently occupied by a certain power. NOTE - \"influence\" and \"center\" fields are different, because \"center\" field shows OWNED center, because centers do not transfer ownership on successful ocupation, but rather during the winter adjustmend phase to whoever currently occupies them. Thus this \"influence\" field shows the currently occupied centers. The structure is: (```province1```, ```province2``` ... )  \n",
    "\n",
    "```province``` - the province name abreviation where the supply center is currently occupied by the power"
   ]
  },
  {
   "cell_type": "markdown",
   "id": "33f53ddb",
   "metadata": {},
   "source": [
    "## civil_disorder (not confident on the information)"
   ]
  },
  {
   "cell_type": "code",
   "execution_count": 249,
   "id": "e033081c",
   "metadata": {},
   "outputs": [
    {
     "data": {
      "text/plain": [
       "{'GERMANY': 0, 'ITALY': 0}"
      ]
     },
     "execution_count": 249,
     "metadata": {},
     "output_type": "execute_result"
    }
   ],
   "source": [
    "no_press[1][\"phases\"][1][\"state\"][\"civil_disorder\"]"
   ]
  },
  {
   "cell_type": "markdown",
   "id": "c03bfcfb",
   "metadata": {},
   "source": [
    "According to the game manual:\n",
    "\n",
    "If a player leaves the game, or fails to submit orders in a given Spring or Fall season, it is assumed that civil government in his/her country has collapsed. His/her units hold in position, but do not support each other. If they are dislodged, they are disbanded. No new Units are raised for this country. \n",
    "\n",
    "The structure is not clear for me :("
   ]
  },
  {
   "cell_type": "markdown",
   "id": "a61c3bc6",
   "metadata": {},
   "source": [
    "## Builds"
   ]
  },
  {
   "cell_type": "code",
   "execution_count": 251,
   "id": "ffa4e59d",
   "metadata": {},
   "outputs": [
    {
     "data": {
      "text/plain": [
       "{'GERMANY': {'count': 0, 'homes': []}, 'ITALY': {'count': 0, 'homes': []}}"
      ]
     },
     "execution_count": 251,
     "metadata": {},
     "output_type": "execute_result"
    }
   ],
   "source": [
    "no_press[1][\"phases\"][1][\"state\"][\"builds\"]"
   ]
  },
  {
   "cell_type": "markdown",
   "id": "3e0d3858",
   "metadata": {},
   "source": [
    "The information on the units curretnly (during Winter adjustment phase) being built. The structure is: (```count``` : x, ```homes``` : [x1, x2, x3])\n",
    "\n",
    "```count``` - how many new units are being built. The number usually corresponds with newly captured supply centers which just transfered ownership at the begining of the Winter phase\n",
    "\n",
    "```homes``` - I belive it's the same information that the \"homes\" field has"
   ]
  },
  {
   "cell_type": "markdown",
   "id": "ee5ec350",
   "metadata": {},
   "source": [
    "## Retreats"
   ]
  },
  {
   "cell_type": "code",
   "execution_count": 266,
   "id": "3f95a33b",
   "metadata": {},
   "outputs": [
    {
     "data": {
      "text/plain": [
       "{'GERMANY': {}, 'ITALY': {'A WAR': ['LVN', 'UKR']}}"
      ]
     },
     "execution_count": 266,
     "metadata": {},
     "output_type": "execute_result"
    }
   ],
   "source": [
    "no_press[1][\"phases\"][12][\"state\"][\"retreats\"]"
   ]
  },
  {
   "cell_type": "markdown",
   "id": "4d2e9779",
   "metadata": {},
   "source": [
    "(Not 100% sure). This field is only relevant during the retreat phase and it display the posible locations for unit to retreat to. The structure is: (```unit_location```: [```possible_location1```, ```possible_location2```])\n",
    "\n",
    "```unit_location``` - the current unit location province\n",
    "```possible_location1``` - an adjacent province to which the unit can retreat to\n",
    "\n",
    "Note, the player will decide where to retreat and their decision will be shown in the \"order\" field. More on this later."
   ]
  },
  {
   "cell_type": "markdown",
   "id": "33a05296",
   "metadata": {},
   "source": [
    "## Orders"
   ]
  },
  {
   "cell_type": "code",
   "execution_count": 292,
   "id": "c306f691",
   "metadata": {},
   "outputs": [
    {
     "data": {
      "text/plain": [
       "{'GERMANY': ['F HOL - BEL', 'A MUN - TYR', 'A SIL - WAR'],\n",
       " 'ITALY': ['A APU - GRE VIA', 'A VEN - TRI', 'F ION C A APU - GRE']}"
      ]
     },
     "execution_count": 292,
     "metadata": {},
     "output_type": "execute_result"
    }
   ],
   "source": [
    "no_press[1][\"phases\"][1][\"orders\"]"
   ]
  },
  {
   "cell_type": "markdown",
   "id": "f777614b",
   "metadata": {},
   "source": [
    "The order for units for this phase"
   ]
  },
  {
   "cell_type": "markdown",
   "id": "ac5e4aa1",
   "metadata": {},
   "source": [
    "structre differs according to the order type, how ever these are the main building blocks:\n",
    "\n",
    "**unit** is contructed as: ```unit_type``` ```unit_location``` (e.g. A MUN = Army is in Munich)\n",
    "\n",
    "\" - \" sign denotes that the unit is going to the after this sign specified location (e.g. A MUN - TYR = Army in Munich is going to Tyrolia)"
   ]
  },
  {
   "cell_type": "markdown",
   "id": "b483ffa5",
   "metadata": {},
   "source": [
    "**Move**: ```unit '-' location``` ('A SIL - WAR')\n",
    "\n",
    "**Support**: ```unit 's' unit to support '-' location where the supported unit is going```  ('A VEN S A PIE - TYR')\n",
    "\n",
    "**Convoy**:\n",
    "1. The army which is being convoyed has the structure: ```unit '-' location 'VIA'``` (e.g.'A APU - GRE VIA')\n",
    "2. The fleet which will convoy the army has the structure: ```unit 'c' unit '-' location``` (e.g. 'F ION C A APU - GRE')\n",
    "\n",
    "**Hold**: ```unit 'H'``` (e.g. 'F POR H')\n",
    "\n",
    "**Build**: ```new unit in the supply center location 'B' ``` (e.g. 'A MUN B' - build an army in the Munich center) \n",
    "\n",
    "**Retreat**: ```unit 'R' location``` (e.g. 'A VIE R BOH')\n",
    "\n",
    "**Disband**: ```unit 'D'``` (e.g. 'A WAR D')"
   ]
  },
  {
   "cell_type": "markdown",
   "id": "5214b929",
   "metadata": {},
   "source": [
    "## Results"
   ]
  },
  {
   "cell_type": "code",
   "execution_count": 325,
   "id": "dc5921d3",
   "metadata": {},
   "outputs": [
    {
     "data": {
      "text/plain": [
       "{'A VIE': [],\n",
       " 'A BUR': [],\n",
       " 'F MAO': [],\n",
       " 'A BUD': ['cut', 'dislodged'],\n",
       " 'A BOH': [],\n",
       " 'A MUN': ['bounce'],\n",
       " 'F KIE': [],\n",
       " 'A SER': [],\n",
       " 'A PIE': [],\n",
       " 'F TUN': [],\n",
       " 'A TRI': [],\n",
       " 'A BUL': [],\n",
       " 'A VEN': ['bounce'],\n",
       " 'F ROM': [],\n",
       " 'F NAP': []}"
      ]
     },
     "execution_count": 325,
     "metadata": {},
     "output_type": "execute_result"
    }
   ],
   "source": [
    "no_press[1][\"phases\"][6][\"results\"]"
   ]
  },
  {
   "cell_type": "markdown",
   "id": "1ee89e7b",
   "metadata": {},
   "source": [
    "This field shows what happened to the units after adjudication. Structure is: ```unit```: [```result1```, ```result2```]\n",
    "\n",
    "Possible results:\n",
    "\n",
    "**empty** - it means that the unit performed its order successfully\n",
    "\n",
    "**\"Bounce\"** - it means that two apposing units with equat powers tried to move into a sama teritory, thus they bounced off each other because neither was able to win\n",
    "\n",
    "**\"cut\"** - it means that this unit was supporting another unit but got attacked, thus the support got interrupted.\n",
    "\n",
    "**\"dislodged\"** - it means that unit was defeated and it now has to either retreat or be disbanded."
   ]
  }
 ],
 "metadata": {
  "kernelspec": {
   "display_name": "Python 3 (ipykernel)",
   "language": "python",
   "name": "python3"
  },
  "language_info": {
   "codemirror_mode": {
    "name": "ipython",
    "version": 3
   },
   "file_extension": ".py",
   "mimetype": "text/x-python",
   "name": "python",
   "nbconvert_exporter": "python",
   "pygments_lexer": "ipython3",
   "version": "3.9.7"
  }
 },
 "nbformat": 4,
 "nbformat_minor": 5
}
